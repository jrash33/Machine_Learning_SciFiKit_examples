{
 "cells": [
  {
   "cell_type": "markdown",
   "metadata": {},
   "source": [
    "## LINEAR REGRESSION"
   ]
  },
  {
   "cell_type": "code",
   "execution_count": 8,
   "metadata": {},
   "outputs": [],
   "source": [
    "import numpy as np\n",
    "import matplotlib.pyplot as plt"
   ]
  },
  {
   "cell_type": "code",
   "execution_count": 9,
   "metadata": {},
   "outputs": [],
   "source": [
    "X = 2*np.random.rand(100,1)\n",
    "y = 4 + 3*X + np.random.randn(100,1)"
   ]
  },
  {
   "cell_type": "code",
   "execution_count": 10,
   "metadata": {},
   "outputs": [
    {
     "data": {
      "image/png": "[encoded data removed]",
      "text/plain": [
       "<Figure size 432x288 with 1 Axes>"
      ]
     },
     "metadata": {},
     "output_type": "display_data"
    }
   ],
   "source": [
    "plt.scatter(X,y)\n",
    "plt.show()"
   ]
  },
  {
   "cell_type": "code",
   "execution_count": 17,
   "metadata": {
    "scrolled": true
   },
   "outputs": [
    {
     "data": {
      "text/plain": [
       "array([[1.00000000e+00, 5.68027646e-01],\n",
       "       [1.00000000e+00, 3.64464280e-01],\n",
       "       [1.00000000e+00, 1.08627693e+00],\n",
       "       [1.00000000e+00, 1.23768846e+00],\n",
       "       [1.00000000e+00, 6.35236207e-01],\n",
       "       [1.00000000e+00, 1.21796739e+00],\n",
       "       [1.00000000e+00, 1.52603562e+00],\n",
       "       [1.00000000e+00, 5.36283725e-01],\n",
       "       [1.00000000e+00, 2.45659656e-01],\n",
       "       [1.00000000e+00, 1.64901474e+00],\n",
       "       [1.00000000e+00, 1.31349347e+00],\n",
       "       [1.00000000e+00, 1.97304777e+00],\n",
       "       [1.00000000e+00, 4.71651778e-01],\n",
       "       [1.00000000e+00, 1.54487274e+00],\n",
       "       [1.00000000e+00, 2.10178737e-01],\n",
       "       [1.00000000e+00, 1.92180861e+00],\n",
       "       [1.00000000e+00, 7.13027053e-01],\n",
       "       [1.00000000e+00, 8.38100390e-01],\n",
       "       [1.00000000e+00, 2.77471984e-01],\n",
       "       [1.00000000e+00, 1.01459131e+00],\n",
       "       [1.00000000e+00, 8.29138786e-01],\n",
       "       [1.00000000e+00, 9.06431651e-03],\n",
       "       [1.00000000e+00, 1.96706183e+00],\n",
       "       [1.00000000e+00, 1.65357890e+00],\n",
       "       [1.00000000e+00, 4.00124607e-04],\n",
       "       [1.00000000e+00, 1.78105433e+00],\n",
       "       [1.00000000e+00, 3.64534232e-01],\n",
       "       [1.00000000e+00, 1.40864649e+00],\n",
       "       [1.00000000e+00, 1.62936622e+00],\n",
       "       [1.00000000e+00, 1.08053465e+00],\n",
       "       [1.00000000e+00, 6.05543389e-01],\n",
       "       [1.00000000e+00, 1.79940957e+00],\n",
       "       [1.00000000e+00, 7.52082104e-01],\n",
       "       [1.00000000e+00, 1.39502621e+00],\n",
       "       [1.00000000e+00, 1.50658826e+00],\n",
       "       [1.00000000e+00, 6.52391371e-01],\n",
       "       [1.00000000e+00, 1.56231431e+00],\n",
       "       [1.00000000e+00, 1.55244444e-01],\n",
       "       [1.00000000e+00, 4.67195948e-02],\n",
       "       [1.00000000e+00, 6.86685935e-01],\n",
       "       [1.00000000e+00, 2.98094646e-01],\n",
       "       [1.00000000e+00, 1.19328331e+00],\n",
       "       [1.00000000e+00, 1.56017698e+00],\n",
       "       [1.00000000e+00, 1.11390734e+00],\n",
       "       [1.00000000e+00, 1.16764453e+00],\n",
       "       [1.00000000e+00, 9.11690822e-01],\n",
       "       [1.00000000e+00, 2.91996597e-01],\n",
       "       [1.00000000e+00, 1.84633750e+00],\n",
       "       [1.00000000e+00, 1.90106027e+00],\n",
       "       [1.00000000e+00, 1.96511234e+00],\n",
       "       [1.00000000e+00, 1.50026352e+00],\n",
       "       [1.00000000e+00, 1.22359016e+00],\n",
       "       [1.00000000e+00, 7.74504284e-01],\n",
       "       [1.00000000e+00, 1.16722371e+00],\n",
       "       [1.00000000e+00, 5.69527404e-02],\n",
       "       [1.00000000e+00, 1.68255370e+00],\n",
       "       [1.00000000e+00, 1.31079007e+00],\n",
       "       [1.00000000e+00, 7.45286049e-01],\n",
       "       [1.00000000e+00, 6.49004990e-01],\n",
       "       [1.00000000e+00, 8.27279786e-01],\n",
       "       [1.00000000e+00, 3.91378769e-01],\n",
       "       [1.00000000e+00, 6.56358202e-01],\n",
       "       [1.00000000e+00, 1.85427772e+00],\n",
       "       [1.00000000e+00, 1.16585116e+00],\n",
       "       [1.00000000e+00, 1.69438404e+00],\n",
       "       [1.00000000e+00, 8.78224367e-01],\n",
       "       [1.00000000e+00, 1.20260512e+00],\n",
       "       [1.00000000e+00, 1.86727144e+00],\n",
       "       [1.00000000e+00, 8.15102975e-01],\n",
       "       [1.00000000e+00, 2.16522820e-01],\n",
       "       [1.00000000e+00, 1.59981861e+00],\n",
       "       [1.00000000e+00, 1.94529194e+00],\n",
       "       [1.00000000e+00, 4.12227932e-02],\n",
       "       [1.00000000e+00, 1.60293425e+00],\n",
       "       [1.00000000e+00, 6.74324083e-01],\n",
       "       [1.00000000e+00, 2.77554780e-01],\n",
       "       [1.00000000e+00, 1.52313788e+00],\n",
       "       [1.00000000e+00, 1.05403679e+00],\n",
       "       [1.00000000e+00, 6.27150761e-02],\n",
       "       [1.00000000e+00, 1.68094283e+00],\n",
       "       [1.00000000e+00, 1.67266685e+00],\n",
       "       [1.00000000e+00, 1.15153425e+00],\n",
       "       [1.00000000e+00, 8.91493788e-01],\n",
       "       [1.00000000e+00, 5.15277040e-01],\n",
       "       [1.00000000e+00, 1.95948477e+00],\n",
       "       [1.00000000e+00, 4.19221466e-01],\n",
       "       [1.00000000e+00, 1.72127510e+00],\n",
       "       [1.00000000e+00, 2.24246928e-01],\n",
       "       [1.00000000e+00, 2.23418264e-01],\n",
       "       [1.00000000e+00, 2.83079799e-01],\n",
       "       [1.00000000e+00, 6.23581423e-01],\n",
       "       [1.00000000e+00, 1.98553046e+00],\n",
       "       [1.00000000e+00, 1.32546188e+00],\n",
       "       [1.00000000e+00, 2.28930706e-01],\n",
       "       [1.00000000e+00, 3.10300026e-01],\n",
       "       [1.00000000e+00, 1.29704938e+00],\n",
       "       [1.00000000e+00, 1.46252098e+00],\n",
       "       [1.00000000e+00, 1.52345961e+00],\n",
       "       [1.00000000e+00, 1.43929085e-01],\n",
       "       [1.00000000e+00, 1.07918654e-01]])"
      ]
     },
     "execution_count": 17,
     "metadata": {},
     "output_type": "execute_result"
    }
   ],
   "source": [
    "#compute theta using the normal equation\n",
    "\n",
    "#add x0=1 to each instance\n",
    "X_b = np.c_[np.ones((100,1)),X]\n",
    "X_b"
   ]
  },
  {
   "cell_type": "code",
   "execution_count": 20,
   "metadata": {},
   "outputs": [
    {
     "data": {
      "text/plain": [
       "array([[3.77494977],\n",
       "       [3.15091021]])"
      ]
     },
     "execution_count": 20,
     "metadata": {},
     "output_type": "execute_result"
    }
   ],
   "source": [
    "theta_best = np.linalg.inv(X_b.T.dot(X_b)).dot(X_b.T).dot(y)\n",
    "#close enough to 4 and 3 but the noise made it hard to get them exactly\n",
    "theta_best"
   ]
  },
  {
   "cell_type": "markdown",
   "metadata": {},
   "source": [
    "## now you can make predictions with Theta"
   ]
  },
  {
   "cell_type": "code",
   "execution_count": 23,
   "metadata": {},
   "outputs": [
    {
     "data": {
      "text/plain": [
       "array([[0],\n",
       "       [2]])"
      ]
     },
     "execution_count": 23,
     "metadata": {},
     "output_type": "execute_result"
    }
   ],
   "source": [
    "X_new = np.array([[0],[2]])\n",
    "X_new"
   ]
  },
  {
   "cell_type": "code",
   "execution_count": 26,
   "metadata": {},
   "outputs": [
    {
     "data": {
      "text/plain": [
       "array([[1., 0.],\n",
       "       [1., 2.]])"
      ]
     },
     "execution_count": 26,
     "metadata": {},
     "output_type": "execute_result"
    }
   ],
   "source": [
    "#add ones to x0\n",
    "X_new_b = np.c_[np.ones((2,1)), X_new]\n",
    "X_new_b"
   ]
  },
  {
   "cell_type": "code",
   "execution_count": 28,
   "metadata": {},
   "outputs": [
    {
     "data": {
      "text/plain": [
       "array([[ 3.77494977],\n",
       "       [10.07677019]])"
      ]
     },
     "execution_count": 28,
     "metadata": {},
     "output_type": "execute_result"
    }
   ],
   "source": [
    "#test 1 point\n",
    "y_predict = X_new_b.dot(theta_best)\n",
    "y_predict"
   ]
  },
  {
   "cell_type": "code",
   "execution_count": 35,
   "metadata": {},
   "outputs": [
    {
     "data": {
      "image/png": "[encoded data removed]",
      "text/plain": [
       "<Figure size 432x288 with 1 Axes>"
      ]
     },
     "metadata": {},
     "output_type": "display_data"
    }
   ],
   "source": [
    "#plot this model's predictions\n",
    "plt.plot(X_new, y_predict, \"r-\")\n",
    "plt.scatter(X,y)\n",
    "plt.show()"
   ]
  },
  {
   "cell_type": "markdown",
   "metadata": {},
   "source": [
    "## Linear Regression using Scikit-Learn"
   ]
  },
  {
   "cell_type": "code",
   "execution_count": 36,
   "metadata": {},
   "outputs": [],
   "source": [
    "from sklearn.linear_model import LinearRegression"
   ]
  },
  {
   "cell_type": "code",
   "execution_count": 37,
   "metadata": {},
   "outputs": [
    {
     "data": {
      "text/plain": [
       "(array([3.77494977]), array([[3.15091021]]))"
      ]
     },
     "execution_count": 37,
     "metadata": {},
     "output_type": "execute_result"
    }
   ],
   "source": [
    "lin_reg = LinearRegression()\n",
    "lin_reg.fit(X,y)\n",
    "lin_reg.intercept_, lin_reg.coef_"
   ]
  },
  {
   "cell_type": "code",
   "execution_count": 38,
   "metadata": {},
   "outputs": [
    {
     "data": {
      "text/plain": [
       "array([[ 3.77494977],\n",
       "       [10.07677019]])"
      ]
     },
     "execution_count": 38,
     "metadata": {},
     "output_type": "execute_result"
    }
   ],
   "source": [
    "lin_reg.predict(X_new)"
   ]
  },
  {
   "cell_type": "code",
   "execution_count": 41,
   "metadata": {},
   "outputs": [
    {
     "data": {
      "text/plain": [
       "array([[3.77494977],\n",
       "       [3.15091021]])"
      ]
     },
     "execution_count": 41,
     "metadata": {},
     "output_type": "execute_result"
    }
   ],
   "source": [
    "#Singular Value Decomposition\n",
    "theta_best_svd, residuals, rank, s = np.linalg.lstsq(X_b, y, rcond=1e-6)\n",
    "theta_best_svd"
   ]
  },
  {
   "cell_type": "code",
   "execution_count": 70,
   "metadata": {},
   "outputs": [],
   "source": [
    "#Gradient descent\n",
    "eta = .1\n",
    "n_iterations = 1000\n",
    "m = 100"
   ]
  },
  {
   "cell_type": "code",
   "execution_count": 71,
   "metadata": {},
   "outputs": [
    {
     "data": {
      "text/plain": [
       "array([[0.24408779],\n",
       "       [0.52626017]])"
      ]
     },
     "execution_count": 71,
     "metadata": {},
     "output_type": "execute_result"
    }
   ],
   "source": [
    "theta = np.random.rand(2,1) #random initialization\n",
    "theta"
   ]
  },
  {
   "cell_type": "code",
   "execution_count": 72,
   "metadata": {
    "scrolled": false
   },
   "outputs": [],
   "source": [
    "for iteration in range(n_iterations):\n",
    "    #MSE\n",
    "    gradients = 2/m * X_b.T.dot(X_b.dot(theta)-y)\n",
    "    #b/m: yval/slope\n",
    "    theta = theta - eta*gradients"
   ]
  },
  {
   "cell_type": "code",
   "execution_count": 73,
   "metadata": {},
   "outputs": [
    {
     "data": {
      "text/plain": [
       "array([[3.77494977],\n",
       "       [3.15091021]])"
      ]
     },
     "execution_count": 73,
     "metadata": {},
     "output_type": "execute_result"
    }
   ],
   "source": [
    "#exactly what the normal equation found!\n",
    "theta"
   ]
  },
  {
   "cell_type": "code",
   "execution_count": 82,
   "metadata": {},
   "outputs": [],
   "source": [
    "#STOCHASTIC GRADIENT DESCENT\n",
    "n_epochs = 50\n",
    "t0, t1 = 5,50 #learning schedule hyperparameters"
   ]
  },
  {
   "cell_type": "code",
   "execution_count": 83,
   "metadata": {},
   "outputs": [],
   "source": [
    "def learning_schedule(t):\n",
    "    return(t0/(t + t1))"
   ]
  },
  {
   "cell_type": "code",
   "execution_count": 84,
   "metadata": {},
   "outputs": [],
   "source": [
    "theta = np.random.randn(2,1) #random initialization"
   ]
  },
  {
   "cell_type": "code",
   "execution_count": 91,
   "metadata": {},
   "outputs": [],
   "source": [
    "#only 50 random iterations opposed to 1000\n",
    "for epoch in range(n_epochs):\n",
    "    for i in range(m):\n",
    "        random_index = np.random.randint(m)\n",
    "        xi = X_b[random_index:random_index+1]\n",
    "        yi = y[random_index:random_index+1]\n",
    "        gradients = 2*xi.T.dot(xi.dot(theta)-yi)\n",
    "        eta = learning_schedule(epoch*m+i)\n",
    "        theta = theta - eta * gradients"
   ]
  },
  {
   "cell_type": "code",
   "execution_count": 92,
   "metadata": {},
   "outputs": [
    {
     "data": {
      "text/plain": [
       "array([[3.73993531],\n",
       "       [3.20394835]])"
      ]
     },
     "execution_count": 92,
     "metadata": {},
     "output_type": "execute_result"
    }
   ],
   "source": [
    "theta"
   ]
  },
  {
   "cell_type": "code",
   "execution_count": 93,
   "metadata": {},
   "outputs": [
    {
     "name": "stderr",
     "output_type": "stream",
     "text": [
      "C:\\Users\\jashcrof\\AppData\\Local\\Continuum\\anaconda3\\lib\\site-packages\\sklearn\\linear_model\\stochastic_gradient.py:117: DeprecationWarning: n_iter parameter is deprecated in 0.19 and will be removed in 0.21. Use max_iter and tol instead.\n",
      "  DeprecationWarning)\n"
     ]
    },
    {
     "data": {
      "text/plain": [
       "SGDRegressor(alpha=0.0001, average=False, epsilon=0.1, eta0=0.1,\n",
       "       fit_intercept=True, l1_ratio=0.15, learning_rate='invscaling',\n",
       "       loss='squared_loss', max_iter=None, n_iter=50, penalty=None,\n",
       "       power_t=0.25, random_state=None, shuffle=True, tol=None, verbose=0,\n",
       "       warm_start=False)"
      ]
     },
     "execution_count": 93,
     "metadata": {},
     "output_type": "execute_result"
    }
   ],
   "source": [
    "#SGD linear regression\n",
    "from sklearn.linear_model import SGDRegressor\n",
    "sgd_reg = SGDRegressor(n_iter=50, penalty=None, eta0=.1)\n",
    "sgd_reg.fit(X, y.ravel())"
   ]
  },
  {
   "cell_type": "code",
   "execution_count": 95,
   "metadata": {},
   "outputs": [
    {
     "data": {
      "text/plain": [
       "(array([3.76637929]), array([3.15546882]))"
      ]
     },
     "execution_count": 95,
     "metadata": {},
     "output_type": "execute_result"
    }
   ],
   "source": [
    "sgd_reg.intercept_, sgd_reg.coef_"
   ]
  },
  {
   "cell_type": "code",
   "execution_count": null,
   "metadata": {},
   "outputs": [],
   "source": []
  },
  {
   "cell_type": "code",
   "execution_count": null,
   "metadata": {},
   "outputs": [],
   "source": []
  },
  {
   "cell_type": "code",
   "execution_count": null,
   "metadata": {},
   "outputs": [],
   "source": []
  },
  {
   "cell_type": "code",
   "execution_count": null,
   "metadata": {},
   "outputs": [],
   "source": []
  },
  {
   "cell_type": "code",
   "execution_count": null,
   "metadata": {},
   "outputs": [],
   "source": []
  }
 ],
 "metadata": {
  "kernelspec": {
   "display_name": "Python 3",
   "language": "python",
   "name": "python3"
  },
  "language_info": {
   "codemirror_mode": {
    "name": "ipython",
    "version": 3
   },
   "file_extension": ".py",
   "mimetype": "text/x-python",
   "name": "python",
   "nbconvert_exporter": "python",
   "pygments_lexer": "ipython3",
   "version": "3.6.5"
  }
 },
 "nbformat": 4,
 "nbformat_minor": 2
}
